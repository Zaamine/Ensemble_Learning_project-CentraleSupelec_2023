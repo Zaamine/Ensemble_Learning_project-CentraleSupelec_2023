{
 "cells": [
  {
   "cell_type": "code",
   "execution_count": 202,
   "id": "d329275c",
   "metadata": {},
   "outputs": [],
   "source": [
    "import numpy as np\n",
    "import matplotlib.pyplot as plt\n",
    "from sklearn.datasets import make_moons"
   ]
  },
  {
   "cell_type": "code",
   "execution_count": 203,
   "id": "2542cdb9",
   "metadata": {},
   "outputs": [],
   "source": [
    "X, y = make_moons()"
   ]
  },
  {
   "cell_type": "code",
   "execution_count": 204,
   "id": "58e8350a",
   "metadata": {},
   "outputs": [
    {
     "data": {
      "text/plain": [
       "[<matplotlib.lines.Line2D at 0x159058af0>]"
      ]
     },
     "execution_count": 204,
     "metadata": {},
     "output_type": "execute_result"
    },
    {
     "data": {
      "image/png": "[encoded data removed]",
      "text/plain": [
       "<Figure size 640x480 with 1 Axes>"
      ]
     },
     "metadata": {},
     "output_type": "display_data"
    }
   ],
   "source": [
    "plt.plot(X[:, 0][y==1], X[:, 1][y==1], \".\", color=\"blue\")\n",
    "plt.plot(X[:, 0][y==0], X[:, 1][y==0], \".\", color=\"red\")"
   ]
  },
  {
   "cell_type": "code",
   "execution_count": 205,
   "id": "41b45cca",
   "metadata": {},
   "outputs": [
    {
     "data": {
      "text/plain": [
       "(100, 2)"
      ]
     },
     "execution_count": 205,
     "metadata": {},
     "output_type": "execute_result"
    }
   ],
   "source": [
    "X.shape"
   ]
  },
  {
   "cell_type": "code",
   "execution_count": 206,
   "id": "32fcfe5d",
   "metadata": {},
   "outputs": [
    {
     "data": {
      "text/plain": [
       "(100,)"
      ]
     },
     "execution_count": 206,
     "metadata": {},
     "output_type": "execute_result"
    }
   ],
   "source": [
    "y.shape"
   ]
  },
  {
   "cell_type": "code",
   "execution_count": 207,
   "id": "dc3ba01e",
   "metadata": {},
   "outputs": [
    {
     "data": {
      "text/plain": [
       "array([[ 1.8380881 , -0.0455349 ],\n",
       "       [ 1.6234898 , -0.28183148],\n",
       "       [ 1.09602303, -0.49537911]])"
      ]
     },
     "execution_count": 207,
     "metadata": {},
     "output_type": "execute_result"
    }
   ],
   "source": [
    "X[:3]"
   ]
  },
  {
   "cell_type": "code",
   "execution_count": 208,
   "id": "f38411c3",
   "metadata": {},
   "outputs": [
    {
     "data": {
      "text/plain": [
       "array([1, 1, 1])"
      ]
     },
     "execution_count": 208,
     "metadata": {},
     "output_type": "execute_result"
    }
   ],
   "source": [
    "y[:3]"
   ]
  },
  {
   "cell_type": "code",
   "execution_count": 209,
   "id": "bec08a00",
   "metadata": {},
   "outputs": [
    {
     "data": {
      "text/plain": [
       "0.48"
      ]
     },
     "execution_count": 209,
     "metadata": {},
     "output_type": "execute_result"
    }
   ],
   "source": [
    "gini_node(np.array([1,1,1,1,1,1,0,0,0,0]))"
   ]
  },
  {
   "cell_type": "code",
   "execution_count": 210,
   "id": "871278c4",
   "metadata": {},
   "outputs": [
    {
     "data": {
      "text/plain": [
       "0.4444444444444444"
      ]
     },
     "execution_count": 210,
     "metadata": {},
     "output_type": "execute_result"
    }
   ],
   "source": [
    "gini_split(np.array([1]),np.array([1,1,1,1,1,0,0,0,0]))"
   ]
  },
  {
   "cell_type": "code",
   "execution_count": 211,
   "id": "1f66f3c4",
   "metadata": {},
   "outputs": [
    {
     "name": "stdout",
     "output_type": "stream",
     "text": [
      "[[ 1.8380881  -0.0455349 ]\n",
      " [ 1.6234898  -0.28183148]\n",
      " [ 1.09602303 -0.49537911]] [1 1 1]\n"
     ]
    }
   ],
   "source": [
    "test_X = X[:3]\n",
    "test_y = y[:3]\n",
    "print(test_X, test_y)"
   ]
  },
  {
   "cell_type": "code",
   "execution_count": 212,
   "id": "4ec4a2fe",
   "metadata": {},
   "outputs": [
    {
     "data": {
      "text/plain": [
       "(array([[ 1.09602303, -0.49537911],\n",
       "        [ 1.6234898 , -0.28183148],\n",
       "        [ 1.8380881 , -0.0455349 ]]),\n",
       " array([1, 1, 1]))"
      ]
     },
     "execution_count": 212,
     "metadata": {},
     "output_type": "execute_result"
    }
   ],
   "source": [
    "sort_X_y_by_one_feature(test_X, test_y,0)"
   ]
  },
  {
   "cell_type": "code",
   "execution_count": 213,
   "id": "b3664aaa",
   "metadata": {},
   "outputs": [],
   "source": [
    "def gini_node(y):\n",
    "    # return the gini score of a Node based on y (classes)\n",
    "    sum = 0\n",
    "    y = list(y)\n",
    "    classes = list(set(y))\n",
    "    for c in classes:\n",
    "        sum += (y.count(c)/len(y))**2\n",
    "    return 1 - sum\n",
    "\n",
    "def gini_split(y_left, y_right):\n",
    "    # return the gini score of a split\n",
    "    len_parent_node = len(y_left) + len(y_right)\n",
    "    return (len(y_left)/len_parent_node)*gini_node(y_left) + (len(y_right)/len_parent_node)*gini_node(y_right)\n",
    "\n",
    "def sort_X_y_by_one_feature(X, y, idx_feature):\n",
    "    # return X and y sorted by one feature\n",
    "    # idx_feature is the index of the feature in X\n",
    "    inds = X[:,idx_feature].argsort()\n",
    "    return X[inds], y[inds]\n",
    "\n",
    "def get_childs(X, y,func):\n",
    "    # return child Nodes of the Node\n",
    "    best_split = None\n",
    "    min_gini_split = np.inf\n",
    "    feature_selected_split = None\n",
    "    \n",
    "    nb_features = X.shape[1]\n",
    "    for idx_feature in range(nb_features):\n",
    "        X, y = sort_X_y_by_one_feature(X, y, idx_feature)\n",
    "        \n",
    "        for i in range(1,len(X)):\n",
    "            X_left, y_left = X[:i], y[:i]\n",
    "            X_right, y_right = X[i:], y[i:]\n",
    "            \n",
    "            gini_split_value = func(y_left, y_right)\n",
    "            if gini_split_value < min_gini_split:\n",
    "                best_split = (X_left, y_left, X_right, y_right)\n",
    "                min_gini_split = gini_split_value\n",
    "                feature_selected_split = idx_feature\n",
    "    \n",
    "    best_X_left, best_y_left = best_split[0], best_split[1]\n",
    "    best_X_right, best_y_right = best_split[2], best_split[3]\n",
    "    left_child = Node(best_X_left, best_y_left)\n",
    "    print(left_child.X[-1][feature_selected_split])\n",
    "    right_child = Node(best_X_right, best_y_right)\n",
    "        \n",
    "    return left_child, right_child"
   ]
  },
  {
   "cell_type": "code",
   "execution_count": 214,
   "id": "251d2554",
   "metadata": {},
   "outputs": [
    {
     "name": "stdout",
     "output_type": "stream",
     "text": [
      "2.9\n",
      "left :  [[6.3 2.5]\n",
      " [6.1 2.8]\n",
      " [6.8 2.8]\n",
      " [6.4 2.9]]\n",
      "right :  [[5.9 3. ]\n",
      " [6.5 3. ]\n",
      " [6.6 3. ]\n",
      " [6.7 3. ]\n",
      " [6.7 3.3]\n",
      " [6.2 3.4]]\n"
     ]
    }
   ],
   "source": [
    "# test avec exo td\n",
    "td_X = np.array([[6.7,3.3],[6.7,3],[6.3,2.5],[6.5,3],[6.2,3.4],[5.9,3],[6.1,2.8],[6.4,2.9],[6.6,3],[6.8,2.8]])\n",
    "td_y = np.array([1,1,1,1,1,1,0,0,0,0])\n",
    "\n",
    "left_node, right_node = get_childs(td_X, td_y,func=gini_split)\n",
    "print(\"left : \",left_node.X)\n",
    "print(\"right : \",right_node.X)"
   ]
  },
  {
   "cell_type": "code",
   "execution_count": 215,
   "id": "3abcf849",
   "metadata": {},
   "outputs": [],
   "source": [
    "class Node:\n",
    "    def __init__(self, X, y):\n",
    "        self.X = X\n",
    "        self.y = y\n",
    "        self.LeftChildNode = None\n",
    "        self.RightChildNode = None\n",
    "        self.depth = None\n",
    "        \n",
    "    def split(self,func=gini_split,max_depth=5):\n",
    "        # split the Node recursively until the maximum depth is obtained\n",
    "        # func is the cost function used for the split\n",
    "        # do we need to split when the y is full of only one class ? i guess no\n",
    "        if gini_node(self.y) > 0:\n",
    "            self.LeftChildNode, self.RightChildNode = get_childs(self.X, self.y, func)\n",
    "            self.LeftChildNode.depth = self.depth + 1\n",
    "            self.RightChildNode.depth = self.depth + 1\n",
    "        \n",
    "            # split again until the maximum depth\n",
    "            if (self.LeftChildNode.depth < max_depth) and (self.RightChildNode.depth < max_depth):\n",
    "                self.LeftChildNode.split(func,max_depth)\n",
    "                self.RightChildNode.split(func,max_depth)\n",
    "\n",
    "class DecisionTree:\n",
    "    def __init__(self, task=\"classification\", max_depth=5):\n",
    "        # task can be either \"regression\" xor \"classification\"\n",
    "        self.task = task\n",
    "        self.max_depth = max_depth\n",
    "        self.root = None\n",
    "        \n",
    "    def fit(self, X, y):\n",
    "        # return the constructed decision tree\n",
    "        if self.task == \"classification\":\n",
    "            func = gini_split\n",
    "            \n",
    "        self.root = Node(X, y)\n",
    "        self.root.depth = 0\n",
    "        self.root.split(func,self.max_depth)\n",
    "        \n",
    "        return self.root\n",
    "    \n",
    "    def predict(self, X):\n",
    "        # return the prediction on X\n",
    "        return False"
   ]
  },
  {
   "cell_type": "code",
   "execution_count": 217,
   "id": "2c084ea4",
   "metadata": {},
   "outputs": [
    {
     "name": "stdout",
     "output_type": "stream",
     "text": [
      "2.9\n",
      "2.5\n",
      "6.5\n",
      "6.6\n"
     ]
    }
   ],
   "source": [
    "clf = DecisionTree(task=\"classification\",max_depth=5)\n",
    "root = clf.fit(td_X,td_y)"
   ]
  },
  {
   "cell_type": "code",
   "execution_count": 218,
   "id": "3ca6d9ba",
   "metadata": {},
   "outputs": [
    {
     "name": "stdout",
     "output_type": "stream",
     "text": [
      "[1 1 1 1 1 1 0 0 0 0]\n"
     ]
    }
   ],
   "source": [
    "print(root.y)"
   ]
  },
  {
   "cell_type": "code",
   "execution_count": 219,
   "id": "a78ae1e7",
   "metadata": {},
   "outputs": [
    {
     "name": "stdout",
     "output_type": "stream",
     "text": [
      "[1 0 0 0] [1 1 0 1 1 1]\n"
     ]
    }
   ],
   "source": [
    "print(root.LeftChildNode.y, root.RightChildNode.y)"
   ]
  },
  {
   "cell_type": "code",
   "execution_count": 220,
   "id": "67764baf",
   "metadata": {},
   "outputs": [
    {
     "name": "stdout",
     "output_type": "stream",
     "text": [
      "[1] [0 0 0] [1 1 1] [0 1 1]\n"
     ]
    }
   ],
   "source": [
    "print(root.LeftChildNode.LeftChildNode.y, root.LeftChildNode.RightChildNode.y, root.RightChildNode.LeftChildNode.y, root.RightChildNode.RightChildNode.y)"
   ]
  },
  {
   "cell_type": "code",
   "execution_count": null,
   "id": "dc047372",
   "metadata": {},
   "outputs": [],
   "source": []
  }
 ],
 "metadata": {
  "kernelspec": {
   "display_name": "Python 3 (ipykernel)",
   "language": "python",
   "name": "python3"
  },
  "language_info": {
   "codemirror_mode": {
    "name": "ipython",
    "version": 3
   },
   "file_extension": ".py",
   "mimetype": "text/x-python",
   "name": "python",
   "nbconvert_exporter": "python",
   "pygments_lexer": "ipython3",
   "version": "3.10.9"
  }
 },
 "nbformat": 4,
 "nbformat_minor": 5
}
